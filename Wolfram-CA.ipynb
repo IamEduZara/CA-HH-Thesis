{
 "cells": [
  {
   "cell_type": "code",
   "execution_count": 251,
   "metadata": {},
   "outputs": [],
   "source": [
    "# Objective of this Script: To provide an idea of how a CA is implemented, as \n",
    "# initial step for the proposal\n",
    "\n",
    "# I followed the implementation of the ComputationalScientist channel: \n",
    "# https://www.youtube.com/watch?v=vhHuHXY04no&t=132s\n",
    "\n",
    "# What I changed?: \n",
    "# Instead of using a fixed length for the generation of the arrays, I used the \n",
    "# lenght of the output_pattern, changed the code expressed as functions, and\n",
    "# generated the desired fractals, in this case I inserted the row number directly\n",
    "# to avoid errors,\n",
    "# besides all that, this Script follows up the revised implementation."
   ]
  },
  {
   "cell_type": "code",
   "execution_count": 252,
   "metadata": {},
   "outputs": [],
   "source": [
    "# Libraries for creation and visualization of data\n",
    "import numpy\n",
    "import matplotlib.pyplot as plt\n",
    "import os"
   ]
  },
  {
   "cell_type": "code",
   "execution_count": 253,
   "metadata": {},
   "outputs": [],
   "source": [
    "os.chdir(r'C:\\Users\\xedua\\OneDrive\\Escritorio\\MCC-I\\Research\\Thesis_Proposal\\Thesis_Proposal_Images')\n",
    "def fractalplot(number, rows, columns):\n",
    "    output_pattern = rule_outcome(number)\n",
    "    input_pattern = rulegen(output_pattern)\n",
    "    canvas = canvascreate(rows, columns)\n",
    "    canvas = fractalgen(output_pattern, input_pattern, rows, columns, canvas)\n",
    "    # Visualization of the CA\n",
    "    plt.imshow(canvas[:, 1:columns], cmap='Greys', interpolation='nearest')\n",
    "    plt.savefig('CA_Rule_{}_{}_From_Py.tiff'.format(number, rows), transparent = True,  dpi = 600)"
   ]
  },
  {
   "cell_type": "code",
   "execution_count": 254,
   "metadata": {},
   "outputs": [],
   "source": [
    "def rule_outcome(number):\n",
    "    # Creates a list for evrey element of the binary-number that represent the decimal-rule-number\n",
    "    output_pattern = [int(x) for x in numpy.binary_repr(number)]\n",
    "    return output_pattern"
   ]
  },
  {
   "cell_type": "code",
   "execution_count": 255,
   "metadata": {},
   "outputs": [],
   "source": [
    "def rulegen(output_pattern):\n",
    "    # Creates an array with n rows and 3 columns of zeros, where n is the number of 0s and 1s of the binary-rule-number\n",
    "    input_pattern = numpy.zeros([len(output_pattern), 3])\n",
    "    # Substitutes 0|1 on each row of evrey column in the list\n",
    "    # One row contains from number 0 till the binary-rule number\n",
    "    for i in range(len(output_pattern)):\n",
    "        input_pattern[i, :] = [int(x) for x in numpy.binary_repr(len(output_pattern) - 1 - i, width = 3)]\n",
    "    return input_pattern"
   ]
  },
  {
   "cell_type": "code",
   "execution_count": 256,
   "metadata": {},
   "outputs": [],
   "source": [
    "def canvascreate(rows, columns):\n",
    "    # Size of the grid\n",
    "    # Activates the initial cell\n",
    "    canvas = numpy.zeros([rows, columns + 2])\n",
    "    canvas[0, rows] = 1\n",
    "    return canvas"
   ]
  },
  {
   "cell_type": "code",
   "execution_count": 257,
   "metadata": {},
   "outputs": [],
   "source": [
    "def fractalgen(output_pattern, input_pattern, rows, columns, canvas):\n",
    "    # Generates the output pattern\n",
    "    for i in numpy.arange(0, rows-1):\n",
    "        for j in numpy.arange(0, columns):\n",
    "            for k in range(len(output_pattern)):\n",
    "                if numpy.array_equal(input_pattern[k, :], canvas[i, j:j + 3]):\n",
    "                    canvas[i + 1, j + 1] = output_pattern[k]\n",
    "    return canvas"
   ]
  },
  {
   "cell_type": "code",
   "execution_count": 258,
   "metadata": {},
   "outputs": [
    {
     "name": "stdout",
     "output_type": "stream",
     "text": [
      "This is Elementary Cellular Automata Rule 254 with 60 generations\n"
     ]
    },
    {
     "data": {
      "image/png": "[encoded data removed]",
      "text/plain": [
       "<Figure size 432x288 with 1 Axes>"
      ]
     },
     "metadata": {
      "needs_background": "light"
     },
     "output_type": "display_data"
    }
   ],
   "source": [
    "# Figure 6\n",
    "print('This is Elementary Cellular Automata Rule 254 with 60 generations')\n",
    "fractalplot(254, 60, 120)"
   ]
  },
  {
   "cell_type": "code",
   "execution_count": 259,
   "metadata": {},
   "outputs": [
    {
     "name": "stdout",
     "output_type": "stream",
     "text": [
      "This is Elementary Cellular Automata Rule 90 with 127 generations\n"
     ]
    },
    {
     "data": {
      "image/png": "[encoded data removed]",
      "text/plain": [
       "<Figure size 432x288 with 1 Axes>"
      ]
     },
     "metadata": {
      "needs_background": "light"
     },
     "output_type": "display_data"
    }
   ],
   "source": [
    "# Figure 7\n",
    "print('This is Elementary Cellular Automata Rule 90 with 127 generations')\n",
    "fractalplot(90, 127, 254)"
   ]
  },
  {
   "cell_type": "code",
   "execution_count": 260,
   "metadata": {},
   "outputs": [
    {
     "name": "stdout",
     "output_type": "stream",
     "text": [
      "This is Elementary Cellular Automata Rule 90 with 127 generations\n"
     ]
    },
    {
     "data": {
      "image/png": "[encoded data removed]",
      "text/plain": [
       "<Figure size 432x288 with 1 Axes>"
      ]
     },
     "metadata": {
      "needs_background": "light"
     },
     "output_type": "display_data"
    }
   ],
   "source": [
    "# Figure 7.1\n",
    "print('This is Elementary Cellular Automata Rule 90 with 60 generations')\n",
    "fractalplot(90, 60, 120)"
   ]
  },
  {
   "cell_type": "code",
   "execution_count": 261,
   "metadata": {},
   "outputs": [
    {
     "name": "stdout",
     "output_type": "stream",
     "text": [
      "This is Elementary Cellular Automata Rule 30 with 60 generations\n"
     ]
    },
    {
     "data": {
      "image/png": "[encoded data removed]",
      "text/plain": [
       "<Figure size 432x288 with 1 Axes>"
      ]
     },
     "metadata": {
      "needs_background": "light"
     },
     "output_type": "display_data"
    }
   ],
   "source": [
    "# Figure 8\n",
    "print('This is Elementary Cellular Automata Rule 30 with 60 generations')\n",
    "fractalplot(30, 60, 120)"
   ]
  }
 ],
 "metadata": {
  "kernelspec": {
   "display_name": "Python 3.10.4 64-bit",
   "language": "python",
   "name": "python3"
  },
  "language_info": {
   "codemirror_mode": {
    "name": "ipython",
    "version": 3
   },
   "file_extension": ".py",
   "mimetype": "text/x-python",
   "name": "python",
   "nbconvert_exporter": "python",
   "pygments_lexer": "ipython3",
   "version": "3.10.4"
  },
  "orig_nbformat": 4,
  "vscode": {
   "interpreter": {
    "hash": "4e63dc034adb77d2e9f29bc5e3910ca70204e12f6cfa1276bfb36a9eaa082cb8"
   }
  }
 },
 "nbformat": 4,
 "nbformat_minor": 2
}
