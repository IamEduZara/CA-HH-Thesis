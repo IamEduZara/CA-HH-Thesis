{
 "cells": [
  {
   "cell_type": "code",
   "execution_count": 19,
   "metadata": {},
   "outputs": [],
   "source": [
    "# Objective of this Script: To provide an idea of how a CA is implemented, as initial step for the proposal\n",
    "# I followed the implementation of the ComputationalScientist channel: https://www.youtube.com/watch?v=vhHuHXY04no&t=132s\n",
    "# What I changed?: \n",
    "#   Instead of using a fixed length for the generation of the arrays, I used the lenght of the output_pattern, besides that, this Script follows up the revised implementation.\n",
    "\n",
    "# Libraries for creation and visualization of data\n",
    "import numpy\n",
    "import matplotlib.pyplot as plt"
   ]
  },
  {
   "cell_type": "code",
   "execution_count": 20,
   "metadata": {},
   "outputs": [
    {
     "name": "stdout",
     "output_type": "stream",
     "text": [
      "[1, 1, 1, 1, 0]\n"
     ]
    }
   ],
   "source": [
    "# Creates a list for evrey element of the binary-number that represent the decimal-rule-number\n",
    "number = 30\n",
    "output_pattern = [int(x) for x in numpy.binary_repr(number)]\n",
    "print(output_pattern)"
   ]
  },
  {
   "cell_type": "code",
   "execution_count": 21,
   "metadata": {},
   "outputs": [
    {
     "name": "stdout",
     "output_type": "stream",
     "text": [
      "[[1. 0. 0.]\n",
      " [0. 1. 1.]\n",
      " [0. 1. 0.]\n",
      " [0. 0. 1.]\n",
      " [0. 0. 0.]]\n"
     ]
    }
   ],
   "source": [
    "# Creates an array with n rows and 3 columns of zeros, where n is the number of 0s and 1s of the binary-rule-number\n",
    "input_pattern = numpy.zeros([len(output_pattern), 3])\n",
    "# Substitutes 0|1 on each row of evrey column in the list\n",
    "# One row contains from number 0 till the binary-rule number\n",
    "for i in range(len(output_pattern)):\n",
    "    input_pattern[i, :] = [int(x) for x in numpy.binary_repr(len(output_pattern) - 1 - i, width = 3)]\n",
    "print(input_pattern)"
   ]
  },
  {
   "cell_type": "code",
   "execution_count": 22,
   "metadata": {},
   "outputs": [],
   "source": [
    "# Size of the grid\n",
    "\n",
    "columns = 50\n",
    "rows = int(columns / 2) + 1"
   ]
  },
  {
   "cell_type": "code",
   "execution_count": 23,
   "metadata": {},
   "outputs": [],
   "source": [
    "# Activates the initial cell\n",
    "canvas = numpy.zeros([rows, columns + 2])\n",
    "canvas[0, int(columns / 2) + 1] = 1"
   ]
  },
  {
   "cell_type": "code",
   "execution_count": 24,
   "metadata": {},
   "outputs": [],
   "source": [
    "# Generates the output pattern\n",
    "for i in numpy.arange(0, rows - 1):\n",
    "    for j in numpy.arange(0, columns):\n",
    "        for k in range(len(output_pattern)):\n",
    "            if numpy.array_equal(input_pattern[k, :], canvas[i, j:j + 3]):\n",
    "                canvas[i + 1, j + 1] = output_pattern[k]"
   ]
  },
  {
   "cell_type": "code",
   "execution_count": 32,
   "metadata": {},
   "outputs": [
    {
     "name": "stdout",
     "output_type": "stream",
     "text": [
      "<function show at 0x0000014168365630>\n"
     ]
    },
    {
     "data": {
      "image/png": "[encoded data removed]",
      "text/plain": [
       "<Figure size 432x288 with 1 Axes>"
      ]
     },
     "metadata": {
      "needs_background": "light"
     },
     "output_type": "display_data"
    }
   ],
   "source": [
    "#%%\n",
    "# Visualization of the CA\n",
    "plt.imshow(canvas[:, 1:columns + 1], cmap='Greys', interpolation='nearest')\n",
    "plt.title('Elementary Cellular Automata Rule {}'.format(number))\n",
    "print(plt.show)"
   ]
  }
 ],
 "metadata": {
  "kernelspec": {
   "display_name": "Python 3.10.4 64-bit",
   "language": "python",
   "name": "python3"
  },
  "language_info": {
   "codemirror_mode": {
    "name": "ipython",
    "version": 3
   },
   "file_extension": ".py",
   "mimetype": "text/x-python",
   "name": "python",
   "nbconvert_exporter": "python",
   "pygments_lexer": "ipython3",
   "version": "3.10.4"
  },
  "orig_nbformat": 4,
  "vscode": {
   "interpreter": {
    "hash": "4e63dc034adb77d2e9f29bc5e3910ca70204e12f6cfa1276bfb36a9eaa082cb8"
   }
  }
 },
 "nbformat": 4,
 "nbformat_minor": 2
}
